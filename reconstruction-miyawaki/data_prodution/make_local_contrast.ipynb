{
 "cells": [
  {
   "cell_type": "code",
   "execution_count": 1,
   "metadata": {},
   "outputs": [],
   "source": [
    "import os\n",
    "from glob import glob\n",
    "\n",
    "import numpy as np\n",
    "import hdf5storage"
   ]
  },
  {
   "cell_type": "code",
   "execution_count": 2,
   "metadata": {},
   "outputs": [],
   "source": [
    "def slide(img, size):\n",
    "    rows = []\n",
    "    for i in range(img.shape[0]):\n",
    "        if i + size[0] > img.shape[0]:\n",
    "            break\n",
    "        row = []\n",
    "        for j in range(img.shape[1]):\n",
    "            if j + size[1] > img.shape[1]:\n",
    "                break\n",
    "            s = img[i:i + size[0], j:j + size[1]]\n",
    "            row.append(s)\n",
    "        rows.append(row)\n",
    "        \n",
    "    return np.array(rows)"
   ]
  },
  {
   "cell_type": "code",
   "execution_count": 6,
   "metadata": {
    "tags": []
   },
   "outputs": [],
   "source": [
    "#dataset = 'random'\n",
    "dataset = 'test'\n",
    "\n",
    "# 1x1\n",
    "srcs = glob(f'../data/stimulus/{dataset}/1x1/*.mat')\n",
    "\n",
    "os.makedirs(f'../data/stimulus/{dataset}/1x2', exist_ok=True)\n",
    "os.makedirs(f'../data/stimulus/{dataset}/2x1', exist_ok=True)\n",
    "os.makedirs(f'../data/stimulus/{dataset}/2x2', exist_ok=True)\n",
    "\n",
    "for src in srcs:\n",
    "    img = hdf5storage.loadmat(src)['feat'][0]\n",
    "    \n",
    "    # 1x2\n",
    "    img_s = slide(img, (1, 2))\n",
    "    img_c = np.sum(img_s, axis=(2, 3)) / (np.prod(img_s.shape[2:]))\n",
    "    #print(img_c.shape)\n",
    "    out_file = os.path.join(f'../data/stimulus/{dataset}/1x2', os.path.basename(src))\n",
    "    hdf5storage.write(img_c[np.newaxis, :], 'feat', out_file, matlab_compatible=True)\n",
    "\n",
    "    # 2x1\n",
    "    img_s = slide(img, (2, 1))\n",
    "    img_c = np.sum(img_s, axis=(2, 3)) / (np.prod(img_s.shape[2:]))\n",
    "    #print(img_c.shape)\n",
    "    out_file = os.path.join(f'../data/stimulus/{dataset}/2x1', os.path.basename(src))\n",
    "    hdf5storage.write(img_c[np.newaxis, :], 'feat', out_file, matlab_compatible=True)\n",
    "\n",
    "    # 2x2\n",
    "    img_s = slide(img, (2, 2))\n",
    "    img_c = np.sum(img_s, axis=(2, 3)) / (np.prod(img_s.shape[2:]))\n",
    "    #print(img_c.shape)\n",
    "    out_file = os.path.join(f'../data/stimulus/{dataset}/2x2', os.path.basename(src))\n",
    "    hdf5storage.write(img_c[np.newaxis, :], 'feat', out_file, matlab_compatible=True)"
   ]
  }
 ],
 "metadata": {
  "kernelspec": {
   "display_name": "Python 3 (ipykernel)",
   "language": "python",
   "name": "python3"
  },
  "language_info": {
   "codemirror_mode": {
    "name": "ipython",
    "version": 3
   },
   "file_extension": ".py",
   "mimetype": "text/x-python",
   "name": "python",
   "nbconvert_exporter": "python",
   "pygments_lexer": "ipython3",
   "version": "3.8.5"
  }
 },
 "nbformat": 4,
 "nbformat_minor": 4
}
